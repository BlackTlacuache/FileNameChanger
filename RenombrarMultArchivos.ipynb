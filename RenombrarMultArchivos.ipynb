{
 "cells": [
  {
   "cell_type": "code",
   "execution_count": 1,
   "id": "85c8cea0-e1a2-43a2-b192-3545d205510a",
   "metadata": {},
   "outputs": [],
   "source": [
    "import os\n",
    "from pathlib import Path as path"
   ]
  },
  {
   "cell_type": "code",
   "execution_count": 2,
   "id": "b1944e41-9433-4423-9bdd-b36945a389a8",
   "metadata": {},
   "outputs": [
    {
     "name": "stdin",
     "output_type": "stream",
     "text": [
      "Enter here the path of the folder:  /home/cian/Documents/Zoom/\n",
      "Enter the old word:  cigarretes\n",
      "Enter the new word:  coffee\n"
     ]
    },
    {
     "data": {
      "text/plain": [
       "['YYYYDDMM cigarretes with Sugarr2', 'YYYYDDMM cigarretes with Sugarr']"
      ]
     },
     "execution_count": 2,
     "metadata": {},
     "output_type": "execute_result"
    }
   ],
   "source": [
    "x = input('Enter here the path of the folder: ')\n",
    "W1 = input('Enter the old word: ')\n",
    "W2 = input('Enter the new word: ')\n",
    "os.listdir(x)"
   ]
  },
  {
   "cell_type": "code",
   "execution_count": 3,
   "id": "efc40666-ce27-4f32-ae60-1addcb0b9e60",
   "metadata": {},
   "outputs": [],
   "source": [
    "lista = os.listdir(x)\n",
    "for i in lista:\n",
    "    if i.find(W1):\n",
    "        uwu = os.path.join(x, i.replace(W1, W2))\n",
    "        os.rename(os.path.join(x, i), uwu)\n",
    "    else:\n",
    "        pass"
   ]
  },
  {
   "cell_type": "code",
   "execution_count": 4,
   "id": "26498272-e0a5-4446-8794-a8395ffd67a5",
   "metadata": {},
   "outputs": [
    {
     "data": {
      "text/plain": [
       "['YYYYDDMM coffee with Sugarr', 'YYYYDDMM coffee with Sugarr2']"
      ]
     },
     "execution_count": 4,
     "metadata": {},
     "output_type": "execute_result"
    }
   ],
   "source": [
    "os.listdir(x)"
   ]
  },
  {
   "cell_type": "code",
   "execution_count": 5,
   "id": "98ab31d9-6e61-41e9-84b5-7214e41518db",
   "metadata": {},
   "outputs": [],
   "source": [
    "# if os.path.exists(x) == True:\n",
    "    # print('It exists')\n",
    "# else:\n",
    "    # print('The dir doesn't exist, do you want to create it? y/n')\n",
    "    # if input() == 'y':\n",
    "        # os.mkdir(x)\n",
    "        # print('Created')\n",
    "    # else:\n",
    "        # print('Exiting...')\n",
    "        \n",
    "        \n",
    "#path('uwu2').mkdir(exist_ok=True) Almost the same that the upper if function"
   ]
  },
  {
   "cell_type": "code",
   "execution_count": 6,
   "id": "9463ab2f-a15c-49dd-bfae-b220fb1b48cc",
   "metadata": {},
   "outputs": [],
   "source": [
    "# Creating probe files to train\n",
    "# for i in range(10):\n",
    "    # rt = x + '\\file ' + str(i) + ' with a wrong word.mp4'\n",
    "    # path(rt).touch()"
   ]
  }
 ],
 "metadata": {
  "kernelspec": {
   "display_name": "Python 3 (ipykernel)",
   "language": "python",
   "name": "python3"
  },
  "language_info": {
   "codemirror_mode": {
    "name": "ipython",
    "version": 3
   },
   "file_extension": ".py",
   "mimetype": "text/x-python",
   "name": "python",
   "nbconvert_exporter": "python",
   "pygments_lexer": "ipython3",
   "version": "3.10.6"
  }
 },
 "nbformat": 4,
 "nbformat_minor": 5
}
